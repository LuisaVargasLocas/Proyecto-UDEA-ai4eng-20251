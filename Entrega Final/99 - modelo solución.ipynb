{
  "cells": [
    {
      "cell_type": "markdown",
      "id": "d52e6609",
      "metadata": {
        "id": "d52e6609"
      },
      "source": [
        "# Entrega Final\n",
        "## Limpieza y preprocesado y creación de modelo Hist Gradient Boosting\n",
        "Este notebook contiene operaciones de limpieza y prepocesado de datos, asi como la creacion del modelo de Hist Gradient Boosting."
      ]
    },
    {
      "cell_type": "code",
      "execution_count": null,
      "id": "tUW8KR7GvkzQ",
      "metadata": {
        "colab": {
          "base_uri": "https://localhost:8080/",
          "height": 75
        },
        "id": "tUW8KR7GvkzQ",
        "outputId": "5458293a-0514-498b-e92e-7cec4b508d52"
      },
      "outputs": [],
      "source": [
        "!wget --no-cache -O init.py -q https://raw.githubusercontent.com/rramosp/ai4eng.v1/main/content/init.py\n",
        "import init; init.init(force_download=False); init.get_weblink()"
      ]
    },
    {
      "cell_type": "code",
      "execution_count": null,
      "id": "a94761a0",
      "metadata": {
        "colab": {
          "base_uri": "https://localhost:8080/"
        },
        "id": "a94761a0",
        "outputId": "12658d3c-f3bc-4d72-8ab8-2e91fa8d0232"
      },
      "outputs": [],
      "source": [
        "# Importar librerías\n",
        "import pandas as pd\n",
        "import numpy as np\n",
        "\n",
        "from sklearn.impute import SimpleImputer, KNNImputer\n",
        "from scipy.stats import zscore\n",
        "from sklearn.metrics import accuracy_score\n",
        "\n",
        "from sklearn.ensemble import HistGradientBoostingClassifier\n",
        "from sklearn.model_selection import train_test_split\n",
        "from sklearn.preprocessing import LabelEncoder, StandardScaler\n",
        "\n",
        "from google.colab import files\n",
        "import os"
      ]
    },
    {
      "cell_type": "code",
      "execution_count": null,
      "id": "GXRDROIjmPjN",
      "metadata": {
        "colab": {
          "base_uri": "https://localhost:8080/",
          "height": 90
        },
        "id": "GXRDROIjmPjN",
        "outputId": "1e65ca3d-70ca-4c9e-cf42-ea2602b98073"
      },
      "outputs": [],
      "source": [
        "# Cargar json\n",
        "files.upload()"
      ]
    },
    {
      "cell_type": "code",
      "execution_count": 3,
      "id": "0X7JcU75lTtK",
      "metadata": {
        "id": "0X7JcU75lTtK"
      },
      "outputs": [],
      "source": [
        "# Cargar competencia de Kaggle\n",
        "os.environ['KAGGLE_CONFIG_DIR'] = '.'\n",
        "!chmod 600 ./kaggle.json\n",
        "!kaggle competitions download -c udea-ai-4-eng-20251-pruebas-saber-pro-colombia"
      ]
    },
    {
      "cell_type": "code",
      "execution_count": null,
      "id": "N3Ww9744m8Km",
      "metadata": {
        "colab": {
          "base_uri": "https://localhost:8080/"
        },
        "id": "N3Ww9744m8Km",
        "outputId": "75fbcc59-81db-4d53-bf3f-48212db025de"
      },
      "outputs": [],
      "source": [
        "# descomprimir archivos\n",
        "!unzip udea*.zip > /dev/null\n",
        "!wc *.csv"
      ]
    },
    {
      "cell_type": "code",
      "execution_count": null,
      "id": "58443b69",
      "metadata": {
        "colab": {
          "base_uri": "https://localhost:8080/",
          "height": 342
        },
        "collapsed": true,
        "id": "58443b69",
        "outputId": "35a174f9-88cd-4e28-8f0c-1285a3db7a5a"
      },
      "outputs": [],
      "source": [
        "# Cargar archivo train.csv\n",
        "file = \"train.csv\"\n",
        "df = pd.read_csv(file)\n",
        "df.head()"
      ]
    },
    {
      "cell_type": "markdown",
      "id": "C07ZukjWENyK",
      "metadata": {
        "id": "C07ZukjWENyK"
      },
      "source": [
        "## Preprocesado de datos\n",
        "### Imputación de Datos Faltantes"
      ]
    },
    {
      "cell_type": "code",
      "execution_count": null,
      "id": "x3n-ofhnHB-1",
      "metadata": {
        "id": "x3n-ofhnHB-1"
      },
      "outputs": [],
      "source": [
        "# Separar las columnas numéricas y categóricas\n",
        "columnas_numericas = df.select_dtypes(include=[\"float64\", \"int64\"]).columns\n",
        "columnas_categoricas = df.select_dtypes(include=[\"object\"]).columns\n",
        "\n",
        "# Imputar columnas numéricas usando KNNImputer\n",
        "imputar_numericas = KNNImputer(n_neighbors=5)\n",
        "df[columnas_numericas] = imputar_numericas.fit_transform(df[columnas_numericas])\n",
        "\n",
        "# Imputar columnas categóricas con la moda (más frecuente)\n",
        "imputar_categoricas = SimpleImputer(strategy=\"most_frequent\")\n",
        "df[columnas_categoricas] = imputar_categoricas.fit_transform(df[columnas_categoricas])\n",
        "\n",
        "# Verificar si quedan valores faltantes\n",
        "print(\"Valores faltantes después de la imputación:\")\n",
        "print(df.isnull().sum())"
      ]
    },
    {
      "cell_type": "markdown",
      "id": "gU_-JupLxpSw",
      "metadata": {
        "id": "gU_-JupLxpSw"
      },
      "source": [
        "### Conversión de Variables Categóricas a One-Hot Encoding"
      ]
    },
    {
      "cell_type": "code",
      "execution_count": null,
      "id": "pejmYMMWy5VK",
      "metadata": {
        "id": "pejmYMMWy5VK"
      },
      "outputs": [],
      "source": [
        "# Codificación de variables categóricas\n",
        "label_encoder = LabelEncoder()\n",
        "df[\"RENDIMIENTO_GLOBAL\"] = label_encoder.fit_transform(df[\"RENDIMIENTO_GLOBAL\"])\n",
        "for col in df.select_dtypes(include=[\"object\"]).columns:\n",
        "    df[col] = label_encoder.fit_transform(df[col])"
      ]
    },
    {
      "cell_type": "markdown",
      "id": "GFEI-LnAJIhj",
      "metadata": {
        "id": "GFEI-LnAJIhj"
      },
      "source": [
        "### Escalado de Valores Numéricos\n",
        "\n"
      ]
    },
    {
      "cell_type": "code",
      "execution_count": null,
      "id": "0vcDT25sJJlp",
      "metadata": {
        "colab": {
          "base_uri": "https://localhost:8080/"
        },
        "id": "0vcDT25sJJlp",
        "outputId": "63fbad5d-f6ff-4800-9439-5330e2378be2"
      },
      "outputs": [],
      "source": [
        "# Escalado con StandardScaler\n",
        "scaler = StandardScaler()\n",
        "df[columnas_numericas] = scaler.fit_transform(df[columnas_numericas])\n",
        "\n",
        "print(\"Variables numéricas escaladas:\")\n",
        "print(df[columnas_numericas].head())"
      ]
    },
    {
      "cell_type": "markdown",
      "id": "WqSmSQVFxJQN",
      "metadata": {
        "id": "WqSmSQVFxJQN"
      },
      "source": [
        "### Detectar valores atípicos: con Z-score y reemplazarlos por la mediana\n"
      ]
    },
    {
      "cell_type": "code",
      "execution_count": null,
      "id": "i98rZ5S5xHbb",
      "metadata": {
        "colab": {
          "base_uri": "https://localhost:8080/"
        },
        "id": "i98rZ5S5xHbb",
        "outputId": "068b8375-8117-4c25-94cd-2b1e70c3135b"
      },
      "outputs": [],
      "source": [
        "# Definir umbral\n",
        "umbral = 3\n",
        "\n",
        "# Aplicar Z-score y reemplazar valores atípicos por la mediana\n",
        "for col in columnas_numericas:\n",
        "    if df[col].std() == 0:\n",
        "        continue\n",
        "    z_scores = zscore(df[col])\n",
        "    mediana = df[col].median()\n",
        "    df[col] = np.where(np.abs(z_scores) > umbral, mediana, df[col])\n",
        "\n",
        "print(\"Valores atípicos suavizados reemplazando por la mediana usando Z-score.\")"
      ]
    },
    {
      "cell_type": "markdown",
      "id": "H2b8dHEP3M97",
      "metadata": {
        "id": "H2b8dHEP3M97"
      },
      "source": [
        "## Creación de modelo Hist Gradient Boosting\n",
        "### Dividir variables X y Y en entrenamiento y prueba"
      ]
    },
    {
      "cell_type": "code",
      "execution_count": 10,
      "id": "s2eDcWA43SIM",
      "metadata": {
        "id": "s2eDcWA43SIM"
      },
      "outputs": [],
      "source": [
        "# Separar variables predictoras y objetivo\n",
        "X = df.drop(columns=[\"RENDIMIENTO_GLOBAL\", \"ID\"])\n",
        "y = df[\"RENDIMIENTO_GLOBAL\"]"
      ]
    },
    {
      "cell_type": "code",
      "execution_count": 11,
      "id": "DJTclUFC3yoN",
      "metadata": {
        "id": "DJTclUFC3yoN"
      },
      "outputs": [],
      "source": [
        "# Dividir el conjunto de datos para validación\n",
        "X_train, X_val, y_train, y_val = train_test_split(X, y, test_size=0.3, random_state=42)"
      ]
    },
    {
      "cell_type": "markdown",
      "id": "0rYTYqb2_Cx4",
      "metadata": {
        "id": "0rYTYqb2_Cx4"
      },
      "source": [
        "### Definición de modelo Hist Gradient Boosting"
      ]
    },
    {
      "cell_type": "code",
      "execution_count": null,
      "id": "dBzrDZan4Mrf",
      "metadata": {
        "colab": {
          "base_uri": "https://localhost:8080/"
        },
        "id": "dBzrDZan4Mrf",
        "outputId": "b2f1e4a5-6e48-46ec-c9d9-337c2d54c347"
      },
      "outputs": [],
      "source": [
        "# Creacion modelo Hist Gradient Boosting\n",
        "modelo_hgb = HistGradientBoostingClassifier(\n",
        "    max_iter=100, learning_rate=0.1, max_depth=5, random_state=42\n",
        ")\n",
        "modelo_hgb.fit(X_train, y_train)\n",
        "y_pred_hgb = modelo_hgb.predict(X_val)\n",
        "precision_hbg = accuracy_score(y_val, y_pred_hgb)\n",
        "\n",
        "print(\"Precisión con Hist Gradient Boosting:\", precision_hbg)"
      ]
    },
    {
      "cell_type": "markdown",
      "id": "1UrgSGKQeVpS",
      "metadata": {
        "id": "1UrgSGKQeVpS"
      },
      "source": [
        "## Aplicar procedimiento a datos de prueba"
      ]
    },
    {
      "cell_type": "code",
      "execution_count": 13,
      "id": "-LSBbr3Pea4p",
      "metadata": {
        "id": "-LSBbr3Pea4p"
      },
      "outputs": [],
      "source": [
        "file = \"test.csv\"\n",
        "df_test = pd.read_csv(file)"
      ]
    },
    {
      "cell_type": "markdown",
      "id": "euvSvD4t_cMt",
      "metadata": {
        "id": "euvSvD4t_cMt"
      },
      "source": [
        "### Imputar valores faltantes a df_test"
      ]
    },
    {
      "cell_type": "code",
      "execution_count": 20,
      "id": "6p0A-UjEnHYG",
      "metadata": {
        "id": "6p0A-UjEnHYG"
      },
      "outputs": [],
      "source": [
        "# Imputar valores faltantes en `df_test`\n",
        "df_test[columnas_numericas] = imputar_numericas.transform(df_test[columnas_numericas])"
      ]
    },
    {
      "cell_type": "markdown",
      "id": "MzSYDOoE_htn",
      "metadata": {
        "id": "MzSYDOoE_htn"
      },
      "source": [
        "### Normalización de valores"
      ]
    },
    {
      "cell_type": "code",
      "execution_count": 21,
      "id": "8ai55s515fLq",
      "metadata": {
        "id": "8ai55s515fLq"
      },
      "outputs": [],
      "source": [
        "# Normalizar las columnas numéricas en `df_test`\n",
        "df_test[columnas_numericas] = scaler.transform(df_test[columnas_numericas])"
      ]
    },
    {
      "cell_type": "markdown",
      "id": "aYpzDJxj_pfS",
      "metadata": {
        "id": "aYpzDJxj_pfS"
      },
      "source": [
        "### Predicción de los datos de prueba con el modelo creado"
      ]
    },
    {
      "cell_type": "code",
      "execution_count": 24,
      "id": "sDO44nQC5hzk",
      "metadata": {
        "id": "sDO44nQC5hzk"
      },
      "outputs": [],
      "source": [
        "# Predicción en los datos de prueba\n",
        "X_test = df_test.drop(columns=[\"ID\"])\n",
        "predicciones = modelo_hgb.predict(X_test)"
      ]
    },
    {
      "cell_type": "markdown",
      "id": "sqMxp0g8_yFI",
      "metadata": {
        "id": "sqMxp0g8_yFI"
      },
      "source": [
        "### Crear dataframe para guardar predicción"
      ]
    },
    {
      "cell_type": "code",
      "execution_count": 25,
      "id": "o2owLgkG5jZX",
      "metadata": {
        "id": "o2owLgkG5jZX"
      },
      "outputs": [],
      "source": [
        "df_submission = pd.DataFrame({\"ID\": df_test[\"ID\"], \"RENDIMIENTO_GLOBAL\": predicciones})"
      ]
    },
    {
      "cell_type": "markdown",
      "id": "icx4NuczAA8C",
      "metadata": {
        "id": "icx4NuczAA8C"
      },
      "source": [
        "### Crear archivo .csv"
      ]
    },
    {
      "cell_type": "code",
      "execution_count": null,
      "id": "5rXfjXDG73Di",
      "metadata": {
        "colab": {
          "base_uri": "https://localhost:8080/"
        },
        "id": "5rXfjXDG73Di",
        "outputId": "4288255f-6788-4d3a-de51-d3ffa6a91fad"
      },
      "outputs": [],
      "source": [
        "# Guardar el archivo de envío en formato CSV\n",
        "df_submission.to_csv(\"submission.csv\", index=False)\n",
        "print(\"Archivo 'submission.csv' creado con éxito.\")"
      ]
    },
    {
      "cell_type": "code",
      "execution_count": null,
      "id": "eMF0_boU78Q4",
      "metadata": {
        "colab": {
          "base_uri": "https://localhost:8080/"
        },
        "id": "eMF0_boU78Q4",
        "outputId": "4746cde9-346e-429b-8e05-9c34aeec5ea5"
      },
      "outputs": [],
      "source": [
        "df_submission.shape"
      ]
    },
    {
      "cell_type": "code",
      "execution_count": null,
      "id": "X0oOP1Wl790H",
      "metadata": {
        "id": "X0oOP1Wl790H"
      },
      "outputs": [],
      "source": [
        "!head submission.csv"
      ]
    },
    {
      "cell_type": "markdown",
      "id": "A-rS3mebAENF",
      "metadata": {
        "id": "A-rS3mebAENF"
      },
      "source": [
        "### Enviar archivo .csv a la competencia"
      ]
    },
    {
      "cell_type": "code",
      "execution_count": null,
      "id": "1PLeJxU27_P-",
      "metadata": {
        "id": "1PLeJxU27_P-"
      },
      "outputs": [],
      "source": [
        "!kaggle competitions submit -c udea-ai-4-eng-20251-pruebas-saber-pro-colombia -f submission.csv -m \"Luisa Vargas Modelo final\""
      ]
    }
  ],
  "metadata": {
    "colab": {
      "provenance": []
    },
    "kernelspec": {
      "display_name": "Python 3",
      "name": "python3"
    },
    "language_info": {
      "name": "python",
      "version": "3.12.4"
    }
  },
  "nbformat": 4,
  "nbformat_minor": 5
}
