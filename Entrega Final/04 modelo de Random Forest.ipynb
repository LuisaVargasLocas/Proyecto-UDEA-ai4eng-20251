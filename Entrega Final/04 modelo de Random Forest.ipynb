{
  "cells": [
    {
      "cell_type": "markdown",
      "id": "d52e6609",
      "metadata": {
        "id": "d52e6609"
      },
      "source": [
        "# Entrega Final\n",
        "## Limpieza y preprocesado y creación de modelo Random Forest\n",
        "Este notebook contiene operaciones de limpieza y prepocesado de datos, asi como la creacion del modelo de Random Forest."
      ]
    },
    {
      "cell_type": "code",
      "execution_count": null,
      "id": "W4aHyvkFqTiz",
      "metadata": {
        "id": "W4aHyvkFqTiz"
      },
      "outputs": [],
      "source": [
        "!wget --no-cache -O init.py -q https://raw.githubusercontent.com/rramosp/ai4eng.v1/main/content/init.py\n",
        "import init; init.init(force_download=False); init.get_weblink()"
      ]
    },
    {
      "cell_type": "code",
      "execution_count": null,
      "id": "a94761a0",
      "metadata": {
        "id": "a94761a0"
      },
      "outputs": [],
      "source": [
        "# Importar librerías\n",
        "import pandas as pd\n",
        "import numpy as np\n",
        "\n",
        "from sklearn.impute import SimpleImputer, KNNImputer\n",
        "from scipy.stats import zscore\n",
        "from sklearn.metrics import accuracy_score\n",
        "\n",
        "from sklearn.ensemble import RandomForestClassifier\n",
        "from sklearn.model_selection import train_test_split\n",
        "from sklearn.preprocessing import LabelEncoder, StandardScaler\n",
        "\n",
        "from google.colab import files\n",
        "import os"
      ]
    },
    {
      "cell_type": "code",
      "execution_count": null,
      "id": "GXRDROIjmPjN",
      "metadata": {
        "id": "GXRDROIjmPjN"
      },
      "outputs": [],
      "source": [
        "# Cargar json\n",
        "files.upload()"
      ]
    },
    {
      "cell_type": "code",
      "execution_count": null,
      "id": "0X7JcU75lTtK",
      "metadata": {
        "id": "0X7JcU75lTtK"
      },
      "outputs": [],
      "source": [
        "# Cargar competencia de Kaggle\n",
        "os.environ['KAGGLE_CONFIG_DIR'] = '.'\n",
        "!chmod 600 ./kaggle.json\n",
        "!kaggle competitions download -c udea-ai-4-eng-20251-pruebas-saber-pro-colombia"
      ]
    },
    {
      "cell_type": "code",
      "execution_count": null,
      "id": "N3Ww9744m8Km",
      "metadata": {
        "id": "N3Ww9744m8Km"
      },
      "outputs": [],
      "source": [
        "# descomprimir archivos\n",
        "!unzip udea*.zip > /dev/null\n",
        "!wc *.csv"
      ]
    },
    {
      "cell_type": "code",
      "execution_count": null,
      "id": "58443b69",
      "metadata": {
        "collapsed": true,
        "id": "58443b69"
      },
      "outputs": [],
      "source": [
        "# Cargar archivo train.csv\n",
        "file = \"train.csv\"\n",
        "df = pd.read_csv(file)\n",
        "df.head()"
      ]
    },
    {
      "cell_type": "markdown",
      "id": "XSDUJMWcu6Jk",
      "metadata": {
        "id": "XSDUJMWcu6Jk"
      },
      "source": [
        "## Preprocesado de datos\n",
        "### Imputación de Datos Faltantes"
      ]
    },
    {
      "cell_type": "code",
      "execution_count": null,
      "id": "voHW53Hgu7Aw",
      "metadata": {
        "id": "voHW53Hgu7Aw"
      },
      "outputs": [],
      "source": [
        "# Separar las columnas numéricas y categóricas\n",
        "columnas_numericas = df.select_dtypes(include=[\"float64\", \"int64\"]).columns\n",
        "columnas_categoricas = df.select_dtypes(include=[\"object\"]).columns\n",
        "\n",
        "# Imputar columnas numéricas usando KNNImputer\n",
        "imputar_numericas = KNNImputer(n_neighbors=5)\n",
        "df[columnas_numericas] = imputar_numericas.fit_transform(df[columnas_numericas])\n",
        "\n",
        "# Imputar columnas categóricas con la moda (más frecuente)\n",
        "imputar_categoricas = SimpleImputer(strategy=\"most_frequent\")\n",
        "df[columnas_categoricas] = imputar_categoricas.fit_transform(df[columnas_categoricas])\n",
        "\n",
        "# Verificar si quedan valores faltantes\n",
        "print(\"Valores faltantes después de la imputación:\")\n",
        "print(df.isnull().sum())"
      ]
    },
    {
      "cell_type": "markdown",
      "id": "ftf9Fp4Xw1MH",
      "metadata": {
        "id": "ftf9Fp4Xw1MH"
      },
      "source": [
        "### Conversión de Variables Categóricas a One-Hot Encoding]"
      ]
    },
    {
      "cell_type": "code",
      "execution_count": null,
      "id": "A0ya9SS7w3YS",
      "metadata": {
        "id": "A0ya9SS7w3YS"
      },
      "outputs": [],
      "source": [
        "# Codificación de variables categóricas\n",
        "label_encoder = LabelEncoder()\n",
        "df[\"RENDIMIENTO_GLOBAL\"] = label_encoder.fit_transform(df[\"RENDIMIENTO_GLOBAL\"])\n",
        "for col in df.select_dtypes(include=[\"object\"]).columns:\n",
        "    df[col] = label_encoder.fit_transform(df[col])"
      ]
    },
    {
      "cell_type": "markdown",
      "id": "LMPZw0gfrmdn",
      "metadata": {
        "id": "LMPZw0gfrmdn"
      },
      "source": [
        "### Escalado de Valores Numéricos\n",
        "\n"
      ]
    },
    {
      "cell_type": "code",
      "execution_count": null,
      "id": "XSCgreV6w7qs",
      "metadata": {
        "id": "XSCgreV6w7qs"
      },
      "outputs": [],
      "source": [
        "# Escalado con StandardScaler\n",
        "scaler = StandardScaler()\n",
        "df[columnas_numericas] = scaler.fit_transform(df[columnas_numericas])\n",
        "\n",
        "print(\"Variables numéricas escaladas:\")\n",
        "print(df[columnas_numericas].head())"
      ]
    },
    {
      "cell_type": "markdown",
      "id": "cz5viOmmw8zY",
      "metadata": {
        "id": "cz5viOmmw8zY"
      },
      "source": [
        "### Detectar valores atípicos: con Z-score y reemplazarlos por la mediana\n"
      ]
    },
    {
      "cell_type": "code",
      "execution_count": null,
      "id": "G9dewpiew_8r",
      "metadata": {
        "id": "G9dewpiew_8r"
      },
      "outputs": [],
      "source": [
        "# Definir umbral\n",
        "umbral = 3\n",
        "\n",
        "# Aplicar Z-score y reemplazar valores atípicos por la mediana\n",
        "for col in columnas_numericas:\n",
        "    if df[col].std() == 0:\n",
        "        continue\n",
        "    z_scores = zscore(df[col])\n",
        "    mediana = df[col].median()\n",
        "    df[col] = np.where(np.abs(z_scores) > umbral, mediana, df[col])\n",
        "\n",
        "print(\"Valores atípicos suavizados reemplazando por la mediana usando Z-score.\")"
      ]
    },
    {
      "cell_type": "markdown",
      "id": "H2b8dHEP3M97",
      "metadata": {
        "id": "H2b8dHEP3M97"
      },
      "source": [
        "## Creación de modelo Random Forest\n",
        "### 1. Dividir variables X y Y en entrenamiento y prueba"
      ]
    },
    {
      "cell_type": "code",
      "execution_count": null,
      "id": "s2eDcWA43SIM",
      "metadata": {
        "id": "s2eDcWA43SIM"
      },
      "outputs": [],
      "source": [
        "# Separar variables predictoras y objetivo\n",
        "X = df.drop(columns=[\"RENDIMIENTO_GLOBAL\", \"ID\"])\n",
        "y = df[\"RENDIMIENTO_GLOBAL\"]"
      ]
    },
    {
      "cell_type": "code",
      "execution_count": null,
      "id": "DJTclUFC3yoN",
      "metadata": {
        "id": "DJTclUFC3yoN"
      },
      "outputs": [],
      "source": [
        "# Dividir el conjunto de datos para validación\n",
        "X_train, X_val, y_train, y_val = train_test_split(X, y, test_size=0.2, random_state=42)"
      ]
    },
    {
      "cell_type": "markdown",
      "id": "0rYTYqb2_Cx4",
      "metadata": {
        "id": "0rYTYqb2_Cx4"
      },
      "source": [
        "### 2. Definición de modelo Random Forest"
      ]
    },
    {
      "cell_type": "code",
      "execution_count": null,
      "id": "dBzrDZan4Mrf",
      "metadata": {
        "id": "dBzrDZan4Mrf"
      },
      "outputs": [],
      "source": [
        "# Creacion modelo Random Forest\n",
        "modelo_rf = RandomForestClassifier(n_estimators=100, random_state=42)\n",
        "modelo_rf.fit(X_train, y_train)\n",
        "y_pred_rf = modelo_rf.predict(X_val)\n",
        "precision_rf = accuracy_score(y_val, y_pred_rf)\n",
        "\n",
        "print(\"Accuracy en validación con Random Forest:\", precision_rf)"
      ]
    },
    {
      "cell_type": "markdown",
      "id": "1UrgSGKQeVpS",
      "metadata": {
        "id": "1UrgSGKQeVpS"
      },
      "source": [
        "### 3. Aplicar procedimiento a datos de prueba"
      ]
    },
    {
      "cell_type": "code",
      "execution_count": null,
      "id": "-LSBbr3Pea4p",
      "metadata": {
        "id": "-LSBbr3Pea4p"
      },
      "outputs": [],
      "source": [
        "file = \"test.csv\"\n",
        "df_test = pd.read_csv(file)"
      ]
    },
    {
      "cell_type": "markdown",
      "id": "euvSvD4t_cMt",
      "metadata": {
        "id": "euvSvD4t_cMt"
      },
      "source": [
        "### 4. Imputar valores faltantes a df_test"
      ]
    },
    {
      "cell_type": "code",
      "execution_count": null,
      "id": "6p0A-UjEnHYG",
      "metadata": {
        "id": "6p0A-UjEnHYG"
      },
      "outputs": [],
      "source": [
        "# Imputar valores faltantes en `df_test`\n",
        "df_test[columnas_numericas] = imputar_numericas.transform(df_test[columnas_numericas])"
      ]
    },
    {
      "cell_type": "markdown",
      "id": "MzSYDOoE_htn",
      "metadata": {
        "id": "MzSYDOoE_htn"
      },
      "source": [
        "### 5. Normalización de valores"
      ]
    },
    {
      "cell_type": "code",
      "execution_count": null,
      "id": "8ai55s515fLq",
      "metadata": {
        "id": "8ai55s515fLq"
      },
      "outputs": [],
      "source": [
        "# Normalizar las columnas numéricas en `df_test`\n",
        "df_test[columnas_numericas] = scaler.transform(df_test[columnas_numericas])"
      ]
    },
    {
      "cell_type": "markdown",
      "id": "aYpzDJxj_pfS",
      "metadata": {
        "id": "aYpzDJxj_pfS"
      },
      "source": [
        "### 6. Predicción de los datos de prueba con el modelo creado"
      ]
    },
    {
      "cell_type": "code",
      "execution_count": null,
      "id": "sDO44nQC5hzk",
      "metadata": {
        "id": "sDO44nQC5hzk"
      },
      "outputs": [],
      "source": [
        "# Predicción en los datos de prueba\n",
        "X_test = df_test.drop(columns=[\"ID\"])\n",
        "predicciones = modelo_rf.predict(X_test)"
      ]
    },
    {
      "cell_type": "markdown",
      "id": "sqMxp0g8_yFI",
      "metadata": {
        "id": "sqMxp0g8_yFI"
      },
      "source": [
        "### 7. Crear dataframe para guardar predicción"
      ]
    },
    {
      "cell_type": "code",
      "execution_count": null,
      "id": "o2owLgkG5jZX",
      "metadata": {
        "id": "o2owLgkG5jZX"
      },
      "outputs": [],
      "source": [
        "df_submission = pd.DataFrame({\"ID\": df_test[\"ID\"], \"RENDIMIENTO_GLOBAL\": predicciones})"
      ]
    },
    {
      "cell_type": "markdown",
      "id": "icx4NuczAA8C",
      "metadata": {
        "id": "icx4NuczAA8C"
      },
      "source": [
        "### 8. Crear archivo .csv"
      ]
    },
    {
      "cell_type": "code",
      "execution_count": null,
      "id": "5rXfjXDG73Di",
      "metadata": {
        "id": "5rXfjXDG73Di"
      },
      "outputs": [],
      "source": [
        "# Guardar el archivo de envío en formato CSV\n",
        "df_submission.to_csv(\"submission.csv\", index=False)\n",
        "print(\"Archivo 'submission.csv' creado con éxito.\")"
      ]
    },
    {
      "cell_type": "code",
      "execution_count": null,
      "id": "eMF0_boU78Q4",
      "metadata": {
        "id": "eMF0_boU78Q4"
      },
      "outputs": [],
      "source": [
        "df_submission.shape"
      ]
    },
    {
      "cell_type": "code",
      "execution_count": null,
      "id": "X0oOP1Wl790H",
      "metadata": {
        "id": "X0oOP1Wl790H"
      },
      "outputs": [],
      "source": [
        "!head submission.csv"
      ]
    },
    {
      "cell_type": "markdown",
      "id": "A-rS3mebAENF",
      "metadata": {
        "id": "A-rS3mebAENF"
      },
      "source": [
        "### 9. Enviar archivo .csv a la competencia"
      ]
    },
    {
      "cell_type": "code",
      "execution_count": null,
      "id": "1PLeJxU27_P-",
      "metadata": {
        "id": "1PLeJxU27_P-"
      },
      "outputs": [],
      "source": [
        "!kaggle competitions submit -c udea-ai4eng-20242 -f submission.csv -m \"Manuela Sanchez Arenas modelo Random Forest\""
      ]
    }
  ],
  "metadata": {
    "colab": {
      "provenance": []
    },
    "kernelspec": {
      "display_name": "Python 3",
      "name": "python3"
    },
    "language_info": {
      "name": "python",
      "version": "3.12.4"
    }
  },
  "nbformat": 4,
  "nbformat_minor": 5
}
