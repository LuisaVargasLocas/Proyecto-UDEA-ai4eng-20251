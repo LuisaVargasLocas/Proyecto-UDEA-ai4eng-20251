{
  "cells": [
    {
      "cell_type": "markdown",
      "id": "d52e6609",
      "metadata": {
        "id": "d52e6609"
      },
      "source": [
        "# Entrega 2\n",
        "## Limpieza y preprocesado de datos\n",
        "Este notebook contiene una exploración básica, así como operaciones de limpieza y preprocesado de datos del archivo train.csv."
      ]
    },
    {
      "cell_type": "code",
      "execution_count": null,
      "id": "a15fadaf",
      "metadata": {},
      "outputs": [],
      "source": [
        "!wget --no-cache -O init.py -q https://raw.githubusercontent.com/rramosp/ai4eng.v1/main/content/init.py\n",
        "import init; init.init(force_download=False); init.get_weblink()"
      ]
    },
    {
      "cell_type": "code",
      "execution_count": null,
      "id": "a94761a0",
      "metadata": {
        "id": "a94761a0"
      },
      "outputs": [],
      "source": [
        "# Importar librerías\n",
        "import pandas as pd\n",
        "import numpy as np\n",
        "\n",
        "from sklearn.impute import SimpleImputer, KNNImputer\n",
        "from sklearn.preprocessing import StandardScaler\n",
        "from scipy.stats import zscore\n",
        "\n",
        "from google.colab import files\n",
        "import os"
      ]
    },
    {
      "cell_type": "code",
      "execution_count": null,
      "id": "GXRDROIjmPjN",
      "metadata": {
        "colab": {
          "base_uri": "https://localhost:8080/",
          "height": 90
        },
        "id": "GXRDROIjmPjN",
        "outputId": "a1d6a6a7-370d-4ab9-cb02-93df721be8e7"
      },
      "outputs": [],
      "source": [
        "# Cargar json\n",
        "files.upload()"
      ]
    },
    {
      "cell_type": "code",
      "execution_count": null,
      "id": "0X7JcU75lTtK",
      "metadata": {
        "id": "0X7JcU75lTtK"
      },
      "outputs": [],
      "source": [
        "# Cargar competencia de Kaggle\n",
        "os.environ['KAGGLE_CONFIG_DIR'] = '.'\n",
        "!chmod 600 ./kaggle.json\n",
        "!kaggle competitions download -c udea-ai-4-eng-20251-pruebas-saber-pro-colombia"
      ]
    },
    {
      "cell_type": "code",
      "execution_count": null,
      "id": "N3Ww9744m8Km",
      "metadata": {
        "colab": {
          "base_uri": "https://localhost:8080/"
        },
        "id": "N3Ww9744m8Km",
        "outputId": "1f9b796c-9d35-484c-c3d8-cde718a2b774"
      },
      "outputs": [],
      "source": [
        "# descomprimir archivos\n",
        "!unzip udea*.zip > /dev/null\n",
        "!wc *.csv"
      ]
    },
    {
      "cell_type": "code",
      "execution_count": null,
      "id": "58443b69",
      "metadata": {
        "colab": {
          "base_uri": "https://localhost:8080/",
          "height": 342
        },
        "collapsed": true,
        "id": "58443b69",
        "outputId": "edc61890-8835-4f46-86a1-4c71bd3a0f15"
      },
      "outputs": [],
      "source": [
        "# Cargar archivo train.csv\n",
        "file = \"train.csv\"\n",
        "df = pd.read_csv(file)\n",
        "df.head()"
      ]
    },
    {
      "cell_type": "markdown",
      "id": "C07ZukjWENyK",
      "metadata": {
        "id": "C07ZukjWENyK"
      },
      "source": [
        "## Preprocesado de datos\n",
        "### 1. Imputación de Datos Faltantes"
      ]
    },
    {
      "cell_type": "code",
      "execution_count": null,
      "id": "x3n-ofhnHB-1",
      "metadata": {
        "colab": {
          "base_uri": "https://localhost:8080/"
        },
        "id": "x3n-ofhnHB-1",
        "outputId": "7f05d666-3ee3-406d-d45f-9f42426de4b1"
      },
      "outputs": [],
      "source": [
        "# Separar las columnas numéricas y categóricas\n",
        "columnas_numericas = df.select_dtypes(include=[\"float64\", \"int64\"]).columns\n",
        "columnas_categoricas = df.select_dtypes(include=[\"object\"]).columns\n",
        "\n",
        "# Imputar columnas numéricas usando KNNImputer\n",
        "imputar_numericas = KNNImputer(n_neighbors=5)\n",
        "df[columnas_numericas] = imputar_numericas.fit_transform(df[columnas_numericas])\n",
        "\n",
        "# Imputar columnas categóricas con la moda (más frecuente)\n",
        "imputar_categoricas = SimpleImputer(strategy=\"most_frequent\")\n",
        "df[columnas_categoricas] = imputar_categoricas.fit_transform(df[columnas_categoricas])\n",
        "\n",
        "# Verificar si quedan valores faltantes\n",
        "print(\"Valores faltantes después de la imputación:\")\n",
        "print(df.isnull().sum())"
      ]
    },
    {
      "cell_type": "markdown",
      "id": "MtEh8JhREz7f",
      "metadata": {
        "id": "MtEh8JhREz7f"
      },
      "source": [
        "### 2. Conversión de Variables Categóricas a One-Hot Encoding"
      ]
    },
    {
      "cell_type": "code",
      "execution_count": null,
      "id": "WcqmSk61E26I",
      "metadata": {
        "colab": {
          "base_uri": "https://localhost:8080/"
        },
        "id": "WcqmSk61E26I",
        "outputId": "41a55fa8-2ca2-4f3f-ab20-b136480bc8c8"
      },
      "outputs": [],
      "source": [
        "# Convertir columnas categóricas en variables dummy (One-Hot Encoding)\n",
        "df_codificado = pd.get_dummies(df, drop_first=True)\n",
        "\n",
        "# Imprimir df con variables categóricas codificadas\n",
        "print(df_codificado.head())"
      ]
    },
    {
      "cell_type": "markdown",
      "id": "GFEI-LnAJIhj",
      "metadata": {
        "id": "GFEI-LnAJIhj"
      },
      "source": [
        "### 3. Escalado de Valores Numéricos\n",
        "\n"
      ]
    },
    {
      "cell_type": "code",
      "execution_count": null,
      "id": "0vcDT25sJJlp",
      "metadata": {
        "colab": {
          "base_uri": "https://localhost:8080/"
        },
        "id": "0vcDT25sJJlp",
        "outputId": "4448674b-d9ea-46b1-c3c9-99ab3eafa367"
      },
      "outputs": [],
      "source": [
        "# Escalado con StandardScaler\n",
        "scaler = StandardScaler()\n",
        "df_codificado[columnas_numericas] = scaler.fit_transform(\n",
        "    df_codificado[columnas_numericas]\n",
        ")\n",
        "\n",
        "print(\"Variables numéricas escaladas:\")\n",
        "print(df_codificado[columnas_numericas].head())"
      ]
    },
    {
      "cell_type": "markdown",
      "id": "AuyD6iUDrKYk",
      "metadata": {
        "id": "AuyD6iUDrKYk"
      },
      "source": [
        "### 4. Detectar valores atípicos con Z-score y reemplazarlos por la mediana\n",
        "\n"
      ]
    },
    {
      "cell_type": "code",
      "execution_count": null,
      "id": "K8Iq7K4_qSX3",
      "metadata": {
        "colab": {
          "base_uri": "https://localhost:8080/"
        },
        "id": "K8Iq7K4_qSX3",
        "outputId": "16531010-f573-4be7-8f9c-abb2e1000ee6"
      },
      "outputs": [],
      "source": [
        "# Definir umbral\n",
        "umbral = 3\n",
        "\n",
        "# Aplicar Z-score y reemplazar valores atípicos por la mediana\n",
        "for col in columnas_numericas:\n",
        "    if df_codificado[col].std() == 0:\n",
        "        continue\n",
        "    z_scores = zscore(df_codificado[col])\n",
        "    mediana = df_codificado[col].median()\n",
        "    df_codificado[col] = np.where(\n",
        "        np.abs(z_scores) > umbral, mediana, df_codificado[col]\n",
        "    )\n",
        "\n",
        "print(\"Valores atípicos suavizados reemplazando por la mediana usando Z-score.\")"
      ]
    },
    {
      "cell_type": "code",
      "execution_count": null,
      "id": "otO5rqSFrdbF",
      "metadata": {
        "id": "otO5rqSFrdbF"
      },
      "outputs": [],
      "source": []
    }
  ],
  "metadata": {
    "colab": {
      "provenance": []
    },
    "kernelspec": {
      "display_name": "Python 3",
      "name": "python3"
    },
    "language_info": {
      "name": "python",
      "version": "3.12.4"
    }
  },
  "nbformat": 4,
  "nbformat_minor": 5
}
